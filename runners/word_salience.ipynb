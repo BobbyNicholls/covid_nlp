{
 "cells": [
  {
   "cell_type": "code",
   "execution_count": null,
   "metadata": {},
   "outputs": [],
   "source": [
    "import pandas as pd\n",
    "import numpy as np\n",
    "import datetime\n",
    "from datetime import datetime as dt\n",
    "from dateutil.relativedelta import *\n",
    "\n",
    "from utils.text_analysis_transformers import RemovePunctuation, RemoveNonAscii\n",
    "from utils.text_analysis_transformers import NltkWordTokenizer, WordLemmatizer\n",
    "from sklearn.feature_extraction.text import CountVectorizer\n",
    "\n",
    "from sklearn.pipeline import Pipeline\n",
    "from sklearn.model_selection import TimeSeriesSplit\n",
    "from utils.TimeBasedCV import TimeBasedCV\n",
    "\n",
    "from sklearn.model_selection import RandomizedSearchCV\n",
    "from sklearn import metrics\n",
    "\n",
    "from sklearn.svm import SVR\n",
    "\n",
    "from utils.data_utils import import_reddit_set"
   ]
  },
  {
   "cell_type": "markdown",
   "metadata": {},
   "source": [
    "# Reddit word count analysis\n",
    "\n",
    "Aiming to create the table;\n",
    "\n",
    "|             | Avg Intensity (weighted by the salience of the words in relation to the outcome variable) | Frequency of Words | Customer Confidence | Saving Ratio |\n",
    "|-------------|---------------------------------------------------------------------------------------------------|----------------------------|-----------------------------|----------------------|\n",
    "| Correlation |                                                                                                   |                            |                             |                      |\n",
    "| 1 Month     |                                                                                                   |                            |                             |                      |\n",
    "| 3 Month     |                                                                                                   |                            |                             |                      |\n",
    "| 6 Month     |                                                                                                   |                            |                             |                      |\n",
    "| 9 Months    |                                                                                                   |                            |                             |                      |\n",
    "\n",
    "## Outputs;\n",
    "Does each feature correlate with the target variables?\n",
    "Do the targets correlate with each other? (sanity check)\n",
    "Do the features have predictive power? \n"
   ]
  },
  {
   "cell_type": "code",
   "execution_count": 9,
   "metadata": {},
   "outputs": [],
   "source": [
    "def import_uk_confidence():\n",
    "    all_confidence = pd.read_csv('data/consumer_confidence_index.csv',\n",
    "                               usecols=['TIME', 'Value', 'LOCATION'])\n",
    "\n",
    "    uk_confidence = all_confidence.loc[all_confidence.LOCATION == \"GBR\"]\n",
    "\n",
    "    assert all(pd.value_counts(uk_confidence.TIME) == 1), \"duplicate entries for the same time period\"\n",
    "\n",
    "    date = pd.to_datetime(uk_confidence.TIME, format=\"%Y-%m\")\n",
    "\n",
    "    # clean dataframe:\n",
    "    df = pd.DataFrame({'date': date, 'value': uk_confidence.Value})\n",
    "\n",
    "    return df"
   ]
  },
  {
   "cell_type": "code",
   "execution_count": null,
   "metadata": {},
   "outputs": [],
   "source": [
    "\n",
    "word_frequency_pipe = Pipeline([\n",
    "    ('remove_non_ascii', RemoveNonAscii()),\n",
    "    ('remove_punctuation', RemovePunctuation()),\n",
    "    ('lemmatize', WordLemmatizer()),\n",
    "    ('count_vec', CountVectorizer(stop_words='english',\n",
    "                                  lowercase=True,\n",
    "                                  preprocessor=None,  # already done above\n",
    "                                  tokenizer=None,  # nltk_word_tokenizer works here, but let's try without first.\n",
    "                                  ngram_range=(1, 5),\n",
    "                                  max_df=0.9,\n",
    "                                  min_df=0.1,\n",
    "                                  max_features=None,\n",
    "                                  vocabulary=None,\n",
    "                                  binary=False,\n",
    "                                  encoding='ascii',\n",
    "                                  strip_accents=None)),\n",
    "    ])\n"
   ]
  },
  {
   "cell_type": "code",
   "execution_count": 4,
   "metadata": {},
   "outputs": [],
   "source": [
    "reddit = import_reddit_set(rows=999999)"
   ]
  },
  {
   "cell_type": "code",
   "execution_count": 5,
   "metadata": {},
   "outputs": [
    {
     "name": "stderr",
     "output_type": "stream",
     "text": [
      "/opt/conda/lib/python3.7/site-packages/ipykernel_launcher.py:1: FutureWarning: Treating datetime data as categorical rather than numeric in `.describe` is deprecated and will be removed in a future version of pandas. Specify `datetime_is_numeric=True` to silence this warning and adopt the future behavior now.\n",
      "  \"\"\"Entry point for launching an IPython kernel.\n"
     ]
    },
    {
     "data": {
      "text/html": [
       "<div>\n",
       "<style scoped>\n",
       "    .dataframe tbody tr th:only-of-type {\n",
       "        vertical-align: middle;\n",
       "    }\n",
       "\n",
       "    .dataframe tbody tr th {\n",
       "        vertical-align: top;\n",
       "    }\n",
       "\n",
       "    .dataframe thead th {\n",
       "        text-align: right;\n",
       "    }\n",
       "</style>\n",
       "<table border=\"1\" class=\"dataframe\">\n",
       "  <thead>\n",
       "    <tr style=\"text-align: right;\">\n",
       "      <th></th>\n",
       "      <th>body</th>\n",
       "      <th>date</th>\n",
       "    </tr>\n",
       "  </thead>\n",
       "  <tbody>\n",
       "    <tr>\n",
       "      <th>count</th>\n",
       "      <td>320579</td>\n",
       "      <td>320579</td>\n",
       "    </tr>\n",
       "    <tr>\n",
       "      <th>unique</th>\n",
       "      <td>316721</td>\n",
       "      <td>305597</td>\n",
       "    </tr>\n",
       "    <tr>\n",
       "      <th>top</th>\n",
       "      <td>Vaccine</td>\n",
       "      <td>2020-11-09 14:03:30+00:00</td>\n",
       "    </tr>\n",
       "    <tr>\n",
       "      <th>freq</th>\n",
       "      <td>81</td>\n",
       "      <td>5</td>\n",
       "    </tr>\n",
       "    <tr>\n",
       "      <th>first</th>\n",
       "      <td>NaN</td>\n",
       "      <td>2020-04-01 00:00:03+00:00</td>\n",
       "    </tr>\n",
       "    <tr>\n",
       "      <th>last</th>\n",
       "      <td>NaN</td>\n",
       "      <td>2020-11-26 23:59:45+00:00</td>\n",
       "    </tr>\n",
       "  </tbody>\n",
       "</table>\n",
       "</div>"
      ],
      "text/plain": [
       "           body                       date\n",
       "count    320579                     320579\n",
       "unique   316721                     305597\n",
       "top     Vaccine  2020-11-09 14:03:30+00:00\n",
       "freq         81                          5\n",
       "first       NaN  2020-04-01 00:00:03+00:00\n",
       "last        NaN  2020-11-26 23:59:45+00:00"
      ]
     },
     "execution_count": 5,
     "metadata": {},
     "output_type": "execute_result"
    }
   ],
   "source": [
    "reddit.describe()"
   ]
  },
  {
   "cell_type": "code",
   "execution_count": 6,
   "metadata": {},
   "outputs": [
    {
     "data": {
      "text/html": [
       "<div>\n",
       "<style scoped>\n",
       "    .dataframe tbody tr th:only-of-type {\n",
       "        vertical-align: middle;\n",
       "    }\n",
       "\n",
       "    .dataframe tbody tr th {\n",
       "        vertical-align: top;\n",
       "    }\n",
       "\n",
       "    .dataframe thead th {\n",
       "        text-align: right;\n",
       "    }\n",
       "</style>\n",
       "<table border=\"1\" class=\"dataframe\">\n",
       "  <thead>\n",
       "    <tr style=\"text-align: right;\">\n",
       "      <th></th>\n",
       "      <th>body</th>\n",
       "      <th>date</th>\n",
       "    </tr>\n",
       "  </thead>\n",
       "  <tbody>\n",
       "    <tr>\n",
       "      <th>0</th>\n",
       "      <td>Rassistisch ist die Bill and Melinda Gates Sti...</td>\n",
       "      <td>2020-04-27 21:06:26+00:00</td>\n",
       "    </tr>\n",
       "    <tr>\n",
       "      <th>1</th>\n",
       "      <td>Dann sag mir doch bitte schön wie man die clin...</td>\n",
       "      <td>2020-04-22 07:43:36+00:00</td>\n",
       "    </tr>\n",
       "    <tr>\n",
       "      <th>2</th>\n",
       "      <td>Das Ding ist aber: Das wissen die meisten gar ...</td>\n",
       "      <td>2020-04-22 06:28:45+00:00</td>\n",
       "    </tr>\n",
       "    <tr>\n",
       "      <th>3</th>\n",
       "      <td>Geil, wie ich wieder gedownvotet werde, genaus...</td>\n",
       "      <td>2020-04-21 19:13:13+00:00</td>\n",
       "    </tr>\n",
       "    <tr>\n",
       "      <th>4</th>\n",
       "      <td>Die Regierung in den letzten 2 Monaten: ein Wi...</td>\n",
       "      <td>2020-04-20 08:16:25+00:00</td>\n",
       "    </tr>\n",
       "  </tbody>\n",
       "</table>\n",
       "</div>"
      ],
      "text/plain": [
       "                                                body                      date\n",
       "0  Rassistisch ist die Bill and Melinda Gates Sti... 2020-04-27 21:06:26+00:00\n",
       "1  Dann sag mir doch bitte schön wie man die clin... 2020-04-22 07:43:36+00:00\n",
       "2  Das Ding ist aber: Das wissen die meisten gar ... 2020-04-22 06:28:45+00:00\n",
       "3  Geil, wie ich wieder gedownvotet werde, genaus... 2020-04-21 19:13:13+00:00\n",
       "4  Die Regierung in den letzten 2 Monaten: ein Wi... 2020-04-20 08:16:25+00:00"
      ]
     },
     "execution_count": 6,
     "metadata": {},
     "output_type": "execute_result"
    }
   ],
   "source": [
    "reddit.head()"
   ]
  },
  {
   "cell_type": "code",
   "execution_count": 7,
   "metadata": {},
   "outputs": [
    {
     "data": {
      "text/html": [
       "<div>\n",
       "<style scoped>\n",
       "    .dataframe tbody tr th:only-of-type {\n",
       "        vertical-align: middle;\n",
       "    }\n",
       "\n",
       "    .dataframe tbody tr th {\n",
       "        vertical-align: top;\n",
       "    }\n",
       "\n",
       "    .dataframe thead th {\n",
       "        text-align: right;\n",
       "    }\n",
       "</style>\n",
       "<table border=\"1\" class=\"dataframe\">\n",
       "  <thead>\n",
       "    <tr style=\"text-align: right;\">\n",
       "      <th></th>\n",
       "      <th>body</th>\n",
       "    </tr>\n",
       "    <tr>\n",
       "      <th>date</th>\n",
       "      <th></th>\n",
       "    </tr>\n",
       "  </thead>\n",
       "  <tbody>\n",
       "    <tr>\n",
       "      <th>2020-04-27 21:06:26+00:00</th>\n",
       "      <td>Rassistisch ist die Bill and Melinda Gates Sti...</td>\n",
       "    </tr>\n",
       "    <tr>\n",
       "      <th>2020-04-22 07:43:36+00:00</th>\n",
       "      <td>Dann sag mir doch bitte schön wie man die clin...</td>\n",
       "    </tr>\n",
       "    <tr>\n",
       "      <th>2020-04-22 06:28:45+00:00</th>\n",
       "      <td>Das Ding ist aber: Das wissen die meisten gar ...</td>\n",
       "    </tr>\n",
       "    <tr>\n",
       "      <th>2020-04-21 19:13:13+00:00</th>\n",
       "      <td>Geil, wie ich wieder gedownvotet werde, genaus...</td>\n",
       "    </tr>\n",
       "    <tr>\n",
       "      <th>2020-04-20 08:16:25+00:00</th>\n",
       "      <td>Die Regierung in den letzten 2 Monaten: ein Wi...</td>\n",
       "    </tr>\n",
       "  </tbody>\n",
       "</table>\n",
       "</div>"
      ],
      "text/plain": [
       "                                                                        body\n",
       "date                                                                        \n",
       "2020-04-27 21:06:26+00:00  Rassistisch ist die Bill and Melinda Gates Sti...\n",
       "2020-04-22 07:43:36+00:00  Dann sag mir doch bitte schön wie man die clin...\n",
       "2020-04-22 06:28:45+00:00  Das Ding ist aber: Das wissen die meisten gar ...\n",
       "2020-04-21 19:13:13+00:00  Geil, wie ich wieder gedownvotet werde, genaus...\n",
       "2020-04-20 08:16:25+00:00  Die Regierung in den letzten 2 Monaten: ein Wi..."
      ]
     },
     "execution_count": 7,
     "metadata": {},
     "output_type": "execute_result"
    }
   ],
   "source": [
    "reddit.date = pd.to_datetime(reddit.date)\n",
    "reddit.set_index('date', inplace=True)\n",
    "reddit.head()"
   ]
  },
  {
   "cell_type": "code",
   "execution_count": 8,
   "metadata": {},
   "outputs": [
    {
     "data": {
      "text/html": [
       "<div>\n",
       "<style scoped>\n",
       "    .dataframe tbody tr th:only-of-type {\n",
       "        vertical-align: middle;\n",
       "    }\n",
       "\n",
       "    .dataframe tbody tr th {\n",
       "        vertical-align: top;\n",
       "    }\n",
       "\n",
       "    .dataframe thead th {\n",
       "        text-align: right;\n",
       "    }\n",
       "</style>\n",
       "<table border=\"1\" class=\"dataframe\">\n",
       "  <thead>\n",
       "    <tr style=\"text-align: right;\">\n",
       "      <th></th>\n",
       "      <th>body</th>\n",
       "      <th>month</th>\n",
       "    </tr>\n",
       "    <tr>\n",
       "      <th>date</th>\n",
       "      <th></th>\n",
       "      <th></th>\n",
       "    </tr>\n",
       "  </thead>\n",
       "  <tbody>\n",
       "    <tr>\n",
       "      <th>2020-04-27 21:06:26+00:00</th>\n",
       "      <td>Rassistisch ist die Bill and Melinda Gates Sti...</td>\n",
       "      <td>4</td>\n",
       "    </tr>\n",
       "    <tr>\n",
       "      <th>2020-04-22 07:43:36+00:00</th>\n",
       "      <td>Dann sag mir doch bitte schön wie man die clin...</td>\n",
       "      <td>4</td>\n",
       "    </tr>\n",
       "    <tr>\n",
       "      <th>2020-04-22 06:28:45+00:00</th>\n",
       "      <td>Das Ding ist aber: Das wissen die meisten gar ...</td>\n",
       "      <td>4</td>\n",
       "    </tr>\n",
       "    <tr>\n",
       "      <th>2020-04-21 19:13:13+00:00</th>\n",
       "      <td>Geil, wie ich wieder gedownvotet werde, genaus...</td>\n",
       "      <td>4</td>\n",
       "    </tr>\n",
       "    <tr>\n",
       "      <th>2020-04-20 08:16:25+00:00</th>\n",
       "      <td>Die Regierung in den letzten 2 Monaten: ein Wi...</td>\n",
       "      <td>4</td>\n",
       "    </tr>\n",
       "  </tbody>\n",
       "</table>\n",
       "</div>"
      ],
      "text/plain": [
       "                                                                        body  \\\n",
       "date                                                                           \n",
       "2020-04-27 21:06:26+00:00  Rassistisch ist die Bill and Melinda Gates Sti...   \n",
       "2020-04-22 07:43:36+00:00  Dann sag mir doch bitte schön wie man die clin...   \n",
       "2020-04-22 06:28:45+00:00  Das Ding ist aber: Das wissen die meisten gar ...   \n",
       "2020-04-21 19:13:13+00:00  Geil, wie ich wieder gedownvotet werde, genaus...   \n",
       "2020-04-20 08:16:25+00:00  Die Regierung in den letzten 2 Monaten: ein Wi...   \n",
       "\n",
       "                           month  \n",
       "date                              \n",
       "2020-04-27 21:06:26+00:00      4  \n",
       "2020-04-22 07:43:36+00:00      4  \n",
       "2020-04-22 06:28:45+00:00      4  \n",
       "2020-04-21 19:13:13+00:00      4  \n",
       "2020-04-20 08:16:25+00:00      4  "
      ]
     },
     "execution_count": 8,
     "metadata": {},
     "output_type": "execute_result"
    }
   ],
   "source": [
    "reddit['month'] = reddit.index.month\n",
    "reddit.head()"
   ]
  },
  {
   "cell_type": "markdown",
   "metadata": {},
   "source": [
    "# But this doesn't look quite right!"
   ]
  },
  {
   "cell_type": "code",
   "execution_count": 12,
   "metadata": {},
   "outputs": [
    {
     "data": {
      "text/plain": [
       "array([ 4, 11])"
      ]
     },
     "execution_count": 12,
     "metadata": {},
     "output_type": "execute_result"
    }
   ],
   "source": [
    "pd.unique(reddit.index.month)"
   ]
  },
  {
   "cell_type": "code",
   "execution_count": 16,
   "metadata": {},
   "outputs": [
    {
     "data": {
      "text/plain": [
       "body     Izah Azahari\\n\\nBrunei Darussalam is guarantee...\n",
       "month                                                   11\n",
       "Name: 2020-11-24 00:09:10+00:00, dtype: object"
      ]
     },
     "execution_count": 16,
     "metadata": {},
     "output_type": "execute_result"
    }
   ],
   "source": [
    "reddit.iloc[70000, :]"
   ]
  },
  {
   "cell_type": "markdown",
   "metadata": {},
   "source": [
    "## Outcome variable: "
   ]
  },
  {
   "cell_type": "code",
   "execution_count": 10,
   "metadata": {},
   "outputs": [
    {
     "data": {
      "text/html": [
       "<div>\n",
       "<style scoped>\n",
       "    .dataframe tbody tr th:only-of-type {\n",
       "        vertical-align: middle;\n",
       "    }\n",
       "\n",
       "    .dataframe tbody tr th {\n",
       "        vertical-align: top;\n",
       "    }\n",
       "\n",
       "    .dataframe thead th {\n",
       "        text-align: right;\n",
       "    }\n",
       "</style>\n",
       "<table border=\"1\" class=\"dataframe\">\n",
       "  <thead>\n",
       "    <tr style=\"text-align: right;\">\n",
       "      <th></th>\n",
       "      <th>date</th>\n",
       "      <th>value</th>\n",
       "    </tr>\n",
       "  </thead>\n",
       "  <tbody>\n",
       "    <tr>\n",
       "      <th>82</th>\n",
       "      <td>2014-01-01</td>\n",
       "      <td>100.3960</td>\n",
       "    </tr>\n",
       "    <tr>\n",
       "      <th>83</th>\n",
       "      <td>2014-02-01</td>\n",
       "      <td>100.7097</td>\n",
       "    </tr>\n",
       "    <tr>\n",
       "      <th>84</th>\n",
       "      <td>2014-03-01</td>\n",
       "      <td>101.0020</td>\n",
       "    </tr>\n",
       "    <tr>\n",
       "      <th>85</th>\n",
       "      <td>2014-04-01</td>\n",
       "      <td>101.2360</td>\n",
       "    </tr>\n",
       "    <tr>\n",
       "      <th>86</th>\n",
       "      <td>2014-05-01</td>\n",
       "      <td>101.3725</td>\n",
       "    </tr>\n",
       "  </tbody>\n",
       "</table>\n",
       "</div>"
      ],
      "text/plain": [
       "         date     value\n",
       "82 2014-01-01  100.3960\n",
       "83 2014-02-01  100.7097\n",
       "84 2014-03-01  101.0020\n",
       "85 2014-04-01  101.2360\n",
       "86 2014-05-01  101.3725"
      ]
     },
     "execution_count": 10,
     "metadata": {},
     "output_type": "execute_result"
    }
   ],
   "source": [
    "# Import the outcome variable and preprocess\n",
    "uk_confidence = import_uk_confidence()\n",
    "\n",
    "uk_confidence.head()"
   ]
  }
 ],
 "metadata": {
  "environment": {
   "name": "common-cpu.m59",
   "type": "gcloud",
   "uri": "gcr.io/deeplearning-platform-release/base-cpu:m59"
  },
  "kernelspec": {
   "display_name": "Python 3",
   "language": "python",
   "name": "python3"
  },
  "language_info": {
   "codemirror_mode": {
    "name": "ipython",
    "version": 3
   },
   "file_extension": ".py",
   "mimetype": "text/x-python",
   "name": "python",
   "nbconvert_exporter": "python",
   "pygments_lexer": "ipython3",
   "version": "3.8.3"
  }
 },
 "nbformat": 4,
 "nbformat_minor": 4
}
